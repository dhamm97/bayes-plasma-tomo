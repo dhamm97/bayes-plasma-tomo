{
 "cells": [
  {
   "cell_type": "code",
   "id": "initial_id",
   "metadata": {
    "collapsed": true,
    "ExecuteTime": {
     "end_time": "2025-03-28T10:33:55.692188Z",
     "start_time": "2025-03-28T10:33:55.688578Z"
    }
   },
   "source": [
    "import numpy as np\n",
    "import matplotlib.pyplot as plt\n",
    "from scipy.stats import pearsonr\n",
    "import src.tomo_fusion.hyperparameter_tuning as hyper\n",
    "import src.tomo_fusion.functionals_definition as fct_def\n",
    "import numpy as np\n",
    "import copy\n",
    "import matplotlib.pyplot as plt\n",
    "import skimage.transform as skimt\n",
    "import src.tomo_fusion.bayesian_computations as bcomp\n",
    "import src.tomo_fusion.tools.helpers as tomo_helps\n",
    "import time"
   ],
   "outputs": [],
   "execution_count": 13
  },
  {
   "metadata": {
    "ExecuteTime": {
     "end_time": "2025-03-28T10:31:39.745438Z",
     "start_time": "2025-03-28T10:31:39.675949Z"
    }
   },
   "cell_type": "code",
   "source": [
    "# Load phantom data\n",
    "psis = np.load('../../../dataset_generation/sxr_samples/psis.npy')\n",
    "sxr_samples  = np.load('../../../dataset_generation/sxr_samples/sxr_samples_with_background.npy')\n",
    "alphas  = np.load('../../../dataset_generation/sxr_samples/alpha_random_values.npy')\n",
    "trim_vals = np.load('../../../dataset_generation/sxr_samples/trimming_values.npy')\n",
    "random_peak_vals  = np.load('../../../dataset_generation/sxr_samples/peak_values_gaussian_background.npy')\n"
   ],
   "id": "a898932a643ef1d7",
   "outputs": [],
   "execution_count": 10
  },
  {
   "metadata": {
    "ExecuteTime": {
     "end_time": "2025-03-28T10:31:40.302783Z",
     "start_time": "2025-03-28T10:31:40.299676Z"
    }
   },
   "cell_type": "code",
   "source": [
    "reg_param_data, best_reg_param, nb_occurrences, factors_avg_wrt_best, factors_median_wrt_best, reg_param_median = [],[],[],[],[],[]\n",
    "\n",
    "anis_param_data, factors_cv_wrt_best_random, factors_cv_wrt_best_random_full, mse_cv_random_full, mse_avg_alpha, factors_cv_wrt_best_camera, factors_cv_wrt_best_camera_full = [],[],[],[],[],[], []"
   ],
   "id": "316b4e17635705b4",
   "outputs": [],
   "execution_count": 11
  },
  {
   "metadata": {
    "ExecuteTime": {
     "end_time": "2025-03-28T10:31:42.713901Z",
     "start_time": "2025-03-28T10:31:42.701641Z"
    }
   },
   "cell_type": "code",
   "source": [
    "sigmas = [\"sigma005\", \"sigma01\", \"sigma005005\"]\n",
    "\n",
    "for sigma in sigmas:\n",
    "\n",
    "    reg_param_data.append(np.load('tuning_data/reg_param_tuning_'+sigma+'/tuning_data.npy', allow_pickle=True))\n",
    "    best_reg_param.append(np.load('tuning_data/reg_param_tuning_'+sigma+'/best_hyperparams.npy'))\n",
    "    nb_occurrences.append(np.load('tuning_data/reg_param_tuning_'+sigma+'/nb_occurrences.npy'))\n",
    "    factors_avg_wrt_best.append(np.load('tuning_data/reg_param_tuning_'+sigma+'/factors_avg_wrt_best.npy'))\n",
    "    factors_median_wrt_best.append(np.load('tuning_data/reg_param_tuning_'+sigma+'/factors_median_wrt_best.npy'))\n",
    "    reg_param_median.append(np.load('tuning_data/reg_param_tuning_'+sigma+'/reg_param_median.npy'))\n",
    "    \n",
    "    anis_param_data.append(np.load('tuning_data/anis_param_tuning_'+sigma+'/tuning_data.npy', allow_pickle=True))\n",
    "    factors_cv_wrt_best_random.append(np.load('tuning_data/anis_param_tuning_'+sigma+'/factors_cv_wrt_best_random.npy'))\n",
    "    factors_cv_wrt_best_random_full.append(np.load('tuning_data/anis_param_tuning_'+sigma+'/factors_cv_wrt_best_random_full.npy'))\n",
    "    mse_cv_random_full.append(np.load('tuning_data/anis_param_tuning_'+sigma+'/mse_cv_random_full.npy'))\n",
    "    mse_avg_alpha.append(np.load('tuning_data/anis_param_tuning_'+sigma+'/mse_average_alpha.npy'))\n",
    "    factors_cv_wrt_best_camera.append(np.load('tuning_data/anis_param_tuning_'+sigma+'/factors_cv_wrt_best_camera.npy'))\n",
    "    factors_cv_wrt_best_camera_full.append(np.load('tuning_data/anis_param_tuning_'+sigma+'/factors_cv_wrt_best_camera_full.npy'))"
   ],
   "id": "6b5a1dabc9140f9a",
   "outputs": [],
   "execution_count": 12
  },
  {
   "metadata": {},
   "cell_type": "code",
   "source": [
    "# recompute maps to generate new data for comparison table\n",
    "\n",
    "mses_map = np.zeros((3, 100, 3))\n",
    "mses_map_core = np.zeros((3, 100, 3))\n",
    "\n",
    "sigmas_stats = [\"sigma005\", \"sigma01\", \"sigma005005\"]\n",
    "\n",
    "sigma_errs = []\n",
    "sigma_errs.append(np.load('tuning_data/reg_param_tuning_sigma005/sigma_err.npy'))\n",
    "sigma_errs.append(np.load('tuning_data/reg_param_tuning_sigma01/sigma_err.npy'))\n",
    "sigma_errs.append(np.load('tuning_data/reg_param_tuning_sigma005005/sigma_err.npy'))\n",
    "\n",
    "reg_param_medians = np.array([np.load('tuning_data/reg_param_tuning_sigma005/reg_param_median.npy'),\n",
    "                              np.load('tuning_data/reg_param_tuning_sigma01/reg_param_median.npy'),\n",
    "                              0.1])\n",
    "\n",
    "map_times = np.zeros((3,100))\n",
    "\n",
    "for sigma_idx, sigma in enumerate(sigmas_stats):\n",
    "    sigma_err = sigma_errs[sigma_idx]\n",
    "    estimated_alphas = np.load('tuning_data/anis_param_tuning_'+sigma+'/best_hyperparams.npy', allow_pickle=True)[:, 2]\n",
    "    true_alphas = alphas[900:]\n",
    "    average_alphas = 1e-2 * np.ones(100)\n",
    "    \n",
    "    for i, idx in enumerate(np.arange(900, 1000)):\n",
    "        print(\"Processing error level \", sigma, \", phantom \", idx)\n",
    "        \n",
    "        ground_truth = copy.deepcopy(sxr_samples[idx, :, :].squeeze())\n",
    "        psi = psis[idx, :, :]\n",
    "        alpha = alphas[idx]\n",
    "        trim_val_ = trim_vals[idx, :]\n",
    "        mask_core = tomo_helps.define_core_mask(psi=psi, dim_shape=(120,40), trim_values_x=trim_val_)\n",
    "    \n",
    "        # anisotropic regularization functional\n",
    "        reg_fct_type = \"anisotropic\"\n",
    "        \n",
    "        # compute MAP with reg_param=median, CV-estimate alpha\n",
    "        f, g = fct_def.define_loglikelihood_and_logprior(ground_truth=ground_truth, psi=psi,\n",
    "                                                         sigma_err=sigma_err, reg_fct_type=reg_fct_type,\n",
    "                                                         alpha=estimated_alphas[i], plot=False,\n",
    "                                                         seed=idx)\n",
    "        time_init = time.time()\n",
    "        map_estimated_alpha = bcomp.compute_MAP(f, g, reg_param_medians[sigma_idx], with_pos_constraint=True, clipping_mask=mask_core, show_progress=False)\n",
    "        map_times[sigma_idx, i] = time.time() - time_init\n",
    "    \n",
    "        # compute MAP with reg_param=median, average alpha=1e-2\n",
    "        g = hyper._redefine_anis_param_logprior(g, alpha_new=1e-2)\n",
    "        # compute MSE\n",
    "        map_average_alpha = bcomp.compute_MAP(f, g, reg_param_medians[sigma_idx], with_pos_constraint=True, clipping_mask=mask_core, show_progress=False)\n",
    "        \n",
    "        # compute MAP with reg_param=best, true alpha\n",
    "        mse_argmin = np.argmin(reg_param_data[sigma_idx][i]['GT'][2, :])\n",
    "        best_reg_param_idx = reg_param_data[sigma_idx][i]['GT'][0, mse_argmin]\n",
    "        g = hyper._redefine_anis_param_logprior(g, alpha_new=alpha)\n",
    "        # compute MSE\n",
    "        map_best = bcomp.compute_MAP(f, g, best_reg_param_idx, with_pos_constraint=True, clipping_mask=mask_core, show_progress=False)\n",
    "        \n",
    "        # compute stats for the 3 different MAPs\n",
    "        downsampled_phantom =  skimt.resize(ground_truth, f.dim_shape[1:], anti_aliasing=False, mode='edge')\n",
    "        mses_map[sigma_idx, i, 0] = np.mean((map_estimated_alpha - downsampled_phantom) ** 2)\n",
    "        mses_map[sigma_idx, i, 1] = np.mean((map_average_alpha - downsampled_phantom) ** 2)\n",
    "        mses_map[sigma_idx, i, 2] = np.mean((map_best - downsampled_phantom) ** 2)\n",
    "        mses_map_core[sigma_idx, i, 0] = np.mean((map_estimated_alpha[mask_core] - downsampled_phantom[mask_core]) ** 2)\n",
    "        mses_map_core[sigma_idx, i, 1] = np.mean((map_average_alpha[mask_core] - downsampled_phantom[mask_core]) ** 2)\n",
    "        mses_map_core[sigma_idx, i, 2] = np.mean((map_best[mask_core] - downsampled_phantom[mask_core]) ** 2)\n",
    "    "
   ],
   "id": "565e7f6133277fc5",
   "outputs": [],
   "execution_count": null
  },
  {
   "metadata": {
    "ExecuteTime": {
     "end_time": "2025-03-28T11:03:13.225993Z",
     "start_time": "2025-03-28T11:03:13.215888Z"
    }
   },
   "cell_type": "code",
   "source": [
    "sigmas = [\"sigma 5%: moderate noise regime\", \"sigma 10%: high noise regime\", \"sigma 5% + 5% of measurement: signal-dependent noise\"]\n",
    "\n",
    "rel_errs, rel_err_cores = np.zeros((4, 100, 2)), np.zeros((4, 100, 2))\n",
    "\n",
    "for j in range(3):\n",
    "    print(sigmas[j])\n",
    "    \n",
    "    rmses_map = np.sqrt(mses_map)\n",
    "    rmses_map_core = np.sqrt(mses_map_core)\n",
    " \n",
    "    print(\"RMSE average CV random full \", np.mean(rmses_map[j, :, 0]), \"+-\", np.std(rmses_map[j, :, 0]))   \n",
    "    print(\"RMSE average fixed alpha \", np.mean(rmses_map[j, :, 1]), \"+-\", np.std(rmses_map[j, :, 1]))\n",
    "    print(\"RMSE average best true alpha \", np.mean(rmses_map[j, :, 2]), \"+-\", np.std(rmses_map[j, :, 2]))\n",
    "    print(\"RMSE core average CV random full \", np.mean(rmses_map_core[j, :, 0]), \"+-\", np.std(rmses_map_core[j, :, 0]))   \n",
    "    print(\"RMSE core average fixed alpha \", np.mean(rmses_map_core[j, :, 1]), \"+-\", np.std(rmses_map_core[j, :, 1]))\n",
    "    print(\"RMSE core average best true alpha \", np.mean(rmses_map_core[j, :, 2]), \"+-\", np.std(rmses_map_core[j, :, 2]))\n",
    "    \n",
    "\n",
    "    rel_err = 100*(rmses_map[j, :, 0]-rmses_map[j, :, 2])/rmses_map[j, :, 2]\n",
    "    rel_err_avg_alpha = 100*(rmses_map[j, :, 1]-rmses_map[j, :, 2])/rmses_map[j, :, 2]\n",
    "    rel_err_core = 100*(rmses_map_core[j, :, 0]-rmses_map_core[j, :, 2])/rmses_map_core[j, :, 2]\n",
    "    rel_err_avg_alpha_core = 100*(rmses_map_core[j, :, 1]-rmses_map_core[j, :, 2])/rmses_map_core[j, :, 2]\n",
    "\n",
    "    print(\"CV-alpha\")\n",
    "    print(\"Average relative error on best RMSE \",np.mean(rel_err), \"+-\", np.std(rel_err))\n",
    "    print(\"Median relative error on best RMSE\", np.median(rel_err))\n",
    "    print(\"90% quantile  relative error on best RMSE\", np.quantile(rel_err, 0.9))\n",
    "    print(\"Fixed alpha\")\n",
    "    print(\"Average relative error on best RMSE \",np.mean(rel_err_avg_alpha), \"+-\", np.std(rel_err_avg_alpha))\n",
    "    print(\"Median relative error on best RMSE\", np.median(rel_err_avg_alpha))\n",
    "    print(\"90% quantile  relative error on best RMSE\", np.quantile(rel_err_avg_alpha, 0.9))\n",
    "    \n",
    "    print(\"CV-alpha, core\")\n",
    "    print(\"Average relative error on best RMSE \",np.mean(rel_err_core), \"+-\", np.std(rel_err_core))\n",
    "    print(\"Median relative error on best RMSE\", np.median(rel_err_core))\n",
    "    print(\"90% quantile  relative error on best RMSE\", np.quantile(rel_err_core, 0.9))\n",
    "    print(\"Fixed alpha, core\")\n",
    "    print(\"Average relative error on best RMSE \",np.mean(rel_err_avg_alpha_core), \"+-\", np.std(rel_err_avg_alpha_core))\n",
    "    print(\"Median relative error on best RMSE\", np.median(rel_err_avg_alpha_core))\n",
    "    print(\"90% quantile  relative error on best RMSE\", np.quantile(rel_err_avg_alpha_core, 0.9))\n",
    "    \n",
    "    print(\"\\n\\n\")\n",
    "    \n",
    "    rel_errs[j, :, 0] = rel_err\n",
    "    rel_errs[j, :, 1] = rel_err_avg_alpha\n",
    "    rel_err_cores[j, :, 0] = rel_err_core\n",
    "    rel_err_cores[j, :, 1] = rel_err_avg_alpha_core\n",
    "\n"
   ],
   "id": "cb4643cc3217bf2e",
   "outputs": [
    {
     "name": "stdout",
     "output_type": "stream",
     "text": [
      "sigma 5%: moderate noise regime\n",
      "RMSE average CV random full  0.01990384790081467 +- 0.0069431280328360635\n",
      "RMSE average fixed alpha  0.020246813576034115 +- 0.006435335402763167\n",
      "RMSE average best true alpha  0.018852256453937604 +- 0.00694830517313475\n",
      "RMSE core average CV random full  0.0327662361224829 +- 0.011422257696120949\n",
      "RMSE core average fixed alpha  0.033355100497085434 +- 0.01052021473945734\n",
      "RMSE core average best true alpha  0.030991046237674208 +- 0.011425986648504102\n",
      "CV-alpha\n",
      "Average relative error on best RMSE  6.8459017448256825 +- 15.617819769032607\n",
      "Median relative error on best RMSE 4.017865268424801\n",
      "90% quantile  relative error on best RMSE 19.70704273557976\n",
      "Fixed alpha\n",
      "Average relative error on best RMSE  9.874234991236621 +- 12.66151002834812\n",
      "Median relative error on best RMSE 8.117232144994947\n",
      "90% quantile  relative error on best RMSE 24.477551433206138\n",
      "CV-alpha, core\n",
      "Average relative error on best RMSE  6.987837143661686 +- 15.928627905136949\n",
      "Median relative error on best RMSE 4.117247642163375\n",
      "90% quantile  relative error on best RMSE 19.980670414025496\n",
      "Fixed alpha, core\n",
      "Average relative error on best RMSE  10.238035921539552 +- 13.157139423213994\n",
      "Median relative error on best RMSE 8.251735891113306\n",
      "90% quantile  relative error on best RMSE 25.033772918709285\n",
      "\n",
      "\n",
      "\n",
      "sigma 10%: high noise regime\n",
      "RMSE average CV random full  0.026254454582343056 +- 0.008674201888673756\n",
      "RMSE average fixed alpha  0.026662404364340843 +- 0.008571295436215456\n",
      "RMSE average best true alpha  0.024301366626843738 +- 0.008023461282561579\n",
      "RMSE core average CV random full  0.043482759824770394 +- 0.014529192895528157\n",
      "RMSE core average fixed alpha  0.044121534212241256 +- 0.0142091697074661\n",
      "RMSE core average best true alpha  0.04013849215111727 +- 0.013167941813293152\n",
      "CV-alpha\n",
      "Average relative error on best RMSE  8.668039524410426 +- 15.753026621449052\n",
      "Median relative error on best RMSE 4.597809364705357\n",
      "90% quantile  relative error on best RMSE 27.043814366802565\n",
      "Fixed alpha\n",
      "Average relative error on best RMSE  10.430468775117212 +- 11.156277609071415\n",
      "Median relative error on best RMSE 8.839532005335908\n",
      "90% quantile  relative error on best RMSE 25.28788457053504\n",
      "CV-alpha, core\n",
      "Average relative error on best RMSE  8.780657463425994 +- 15.983723614255984\n",
      "Median relative error on best RMSE 4.641105053340672\n",
      "90% quantile  relative error on best RMSE 27.56765718639098\n",
      "Fixed alpha, core\n",
      "Average relative error on best RMSE  10.604060735174494 +- 11.335630472014003\n",
      "Median relative error on best RMSE 8.953109145700282\n",
      "90% quantile  relative error on best RMSE 25.618257581250944\n",
      "\n",
      "\n",
      "\n",
      "sigma 5% + 5% of measurement: signal-dependent noise\n",
      "RMSE average CV random full  0.025591191460380084 +- 0.008907835606673308\n",
      "RMSE average fixed alpha  0.02689017593302223 +- 0.009738518601038696\n",
      "RMSE average best true alpha  0.022819793885345812 +- 0.007132944287398754\n",
      "RMSE core average CV random full  0.042353813088898136 +- 0.01494015011317667\n",
      "RMSE core average fixed alpha  0.04445307625693903 +- 0.016146535964803047\n",
      "RMSE core average best true alpha  0.03765624048094475 +- 0.01168434579993021\n",
      "CV-alpha\n",
      "Average relative error on best RMSE  11.761337597208692 +- 17.962357623063937\n",
      "Median relative error on best RMSE 7.933208706057151\n",
      "90% quantile  relative error on best RMSE 31.678199632924322\n",
      "Fixed alpha\n",
      "Average relative error on best RMSE  16.233281282732502 +- 17.083058175407356\n",
      "Median relative error on best RMSE 16.269272841576317\n",
      "90% quantile  relative error on best RMSE 39.212761547536864\n",
      "CV-alpha, core\n",
      "Average relative error on best RMSE  11.901248144982796 +- 18.176201900893265\n",
      "Median relative error on best RMSE 8.116687749594774\n",
      "90% quantile  relative error on best RMSE 31.893493453799152\n",
      "Fixed alpha, core\n",
      "Average relative error on best RMSE  16.396098880804114 +- 17.267424738112563\n",
      "Median relative error on best RMSE 16.403179022404238\n",
      "90% quantile  relative error on best RMSE 39.70694105728724\n",
      "\n",
      "\n",
      "\n"
     ]
    }
   ],
   "execution_count": 18
  },
  {
   "metadata": {
    "ExecuteTime": {
     "end_time": "2025-03-28T11:03:43.049689Z",
     "start_time": "2025-03-28T11:03:43.046383Z"
    }
   },
   "cell_type": "code",
   "source": [
    "anis_param_tuning_stats = {\"rmses_map\": rmses_map, \"rmses_map_core\": rmses_map_core, \"rel_errs\": rel_errs, \"rel_errs_core\": rel_err_cores}\n",
    "np.save('tuning_data/anis_param_tuning_summary_stats.npy', anis_param_tuning_stats)"
   ],
   "id": "96142abee97f24ec",
   "outputs": [],
   "execution_count": 19
  },
  {
   "metadata": {
    "ExecuteTime": {
     "end_time": "2025-03-28T11:04:06.640387Z",
     "start_time": "2025-03-28T11:04:06.494542Z"
    }
   },
   "cell_type": "code",
   "source": [
    "plt.figure()\n",
    "vec = np.zeros(100)\n",
    "counter=0\n",
    "model=0\n",
    "for i in range(reg_param_data[model][0][\"GT\"].shape[1]):\n",
    "    nb_occurrences_i = np.where(best_reg_param[model] == reg_param_data[model][0][\"GT\"][0,i])[0].size\n",
    "    vec[counter:counter+nb_occurrences_i] = i\n",
    "    counter += nb_occurrences_i\n",
    "plt.figure(figsize=(3.5,2.5))\n",
    "plt.rcParams.update({\n",
    "    \"text.usetex\": True,\n",
    "    \"font.family\": \"sans-serif\",\n",
    "})\n",
    "plt.hist(vec, bins=29)\n",
    "plt.xticks([0,4,8,12,16,20], [r\"$10^{-4}$\", r\"$10^{-3}$\", r\"$10^{-2}$\", r\"$10^{-1}$\", r\"$10^{0}$\", r\"$10^{1}$\"], fontsize=17)\n",
    "plt.yticks([5,10,15,20,25], fontsize=17)#, [r\"$10^{-4}$\", r\"$10^{-3}$\", r\"$10^{-2}$\", r\"$10^{-1}$\", r\"$10^{0}$\", r\"$10^{1}$\"], fontsize=16)\n",
    "plt.title(r\"$\\mathrm{Noise \\;model \\;}N_1:\\;\\lambda_{best}$\", fontsize=19)\n",
    "#plt.xlabel(r\"$\\lambda_{best}$\", fontsize=17)\n",
    "plt.ylabel(r\"$\\# \\mathrm{occurrences}$\", fontsize=18, labelpad=5)\n",
    "#plt.ylabel(r\"$\\mathrm{occurrences}$\", fontsize=17, labelpad=5)\n",
    "\n",
    "#plt.savefig('../../../figures/reg_param_tuning.eps', format='eps', bbox_inches=\"tight\")\n",
    "\n",
    "plt.show()"
   ],
   "id": "9e4070c6468b8f2e",
   "outputs": [
    {
     "data": {
      "text/plain": [
       "<Figure size 640x480 with 0 Axes>"
      ]
     },
     "metadata": {},
     "output_type": "display_data"
    },
    {
     "data": {
      "text/plain": [
       "<Figure size 350x250 with 1 Axes>"
      ],
      "image/png": "[encoded data removed]"
     },
     "metadata": {},
     "output_type": "display_data"
    }
   ],
   "execution_count": 20
  }
 ],
 "metadata": {
  "kernelspec": {
   "display_name": "Python 3",
   "language": "python",
   "name": "python3"
  },
  "language_info": {
   "codemirror_mode": {
    "name": "ipython",
    "version": 2
   },
   "file_extension": ".py",
   "mimetype": "text/x-python",
   "name": "python",
   "nbconvert_exporter": "python",
   "pygments_lexer": "ipython2",
   "version": "2.7.6"
  }
 },
 "nbformat": 4,
 "nbformat_minor": 5
}
