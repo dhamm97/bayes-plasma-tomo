{
 "cells": [
  {
   "cell_type": "code",
   "id": "initial_id",
   "metadata": {
    "collapsed": true,
    "ExecuteTime": {
     "end_time": "2025-01-11T12:49:32.055600Z",
     "start_time": "2025-01-11T12:49:32.052844Z"
    }
   },
   "source": [
    "import numpy as np\n",
    "import matplotlib.pyplot as plt\n",
    "from scipy.stats import pearsonr\n",
    "import src.tomo_fusion.hyperparameter_tuning as hyper\n",
    "import src.tomo_fusion.functionals_definition as fct_def"
   ],
   "outputs": [],
   "execution_count": 2
  },
  {
   "metadata": {
    "ExecuteTime": {
     "end_time": "2025-01-11T12:49:32.686124Z",
     "start_time": "2025-01-11T12:49:32.614425Z"
    }
   },
   "cell_type": "code",
   "source": [
    "# Load phantom data\n",
    "psis = np.load('../../../dataset_generation/sxr_samples/psis.npy')\n",
    "sxr_samples  = np.load('../../../dataset_generation/sxr_samples/sxr_samples_with_background.npy')\n",
    "alphas  = np.load('../../../dataset_generation/sxr_samples/alpha_random_values.npy')\n",
    "trim_vals = np.load('../../../dataset_generation/sxr_samples/trimming_values.npy')\n",
    "random_peak_vals  = np.load('../../../dataset_generation/sxr_samples/peak_values_gaussian_background.npy')\n"
   ],
   "id": "a898932a643ef1d7",
   "outputs": [],
   "execution_count": 3
  },
  {
   "metadata": {
    "ExecuteTime": {
     "end_time": "2025-01-11T12:49:33.353242Z",
     "start_time": "2025-01-11T12:49:33.349757Z"
    }
   },
   "cell_type": "code",
   "source": [
    "reg_param_data, best_reg_param, nb_occurrences, factors_avg_wrt_best, factors_median_wrt_best, reg_param_median = [],[],[],[],[],[]\n",
    "\n",
    "anis_param_data, factors_cv_wrt_best_random, factors_cv_wrt_best_random_full, mse_cv_random_full, mse_avg_alpha, factors_cv_wrt_best_camera, factors_cv_wrt_best_camera_full = [],[],[],[],[],[], []"
   ],
   "id": "316b4e17635705b4",
   "outputs": [],
   "execution_count": 4
  },
  {
   "metadata": {
    "ExecuteTime": {
     "end_time": "2025-01-11T12:49:34.550865Z",
     "start_time": "2025-01-11T12:49:34.538763Z"
    }
   },
   "cell_type": "code",
   "source": [
    "sigmas = [\"sigma005\", \"sigma01\", \"sigma005005\"]\n",
    "\n",
    "for sigma in sigmas:\n",
    "\n",
    "    reg_param_data.append(np.load('tuning_data/reg_param_tuning_'+sigma+'/tuning_data.npy', allow_pickle=True))\n",
    "    best_reg_param.append(np.load('tuning_data/reg_param_tuning_'+sigma+'/best_hyperparams.npy'))\n",
    "    nb_occurrences.append(np.load('tuning_data/reg_param_tuning_'+sigma+'/nb_occurrences.npy'))\n",
    "    factors_avg_wrt_best.append(np.load('tuning_data/reg_param_tuning_'+sigma+'/factors_avg_wrt_best.npy'))\n",
    "    factors_median_wrt_best.append(np.load('tuning_data/reg_param_tuning_'+sigma+'/factors_median_wrt_best.npy'))\n",
    "    reg_param_median.append(np.load('tuning_data/reg_param_tuning_'+sigma+'/reg_param_median.npy'))\n",
    "    \n",
    "    anis_param_data.append(np.load('tuning_data/anis_param_tuning_'+sigma+'/tuning_data.npy', allow_pickle=True))\n",
    "    factors_cv_wrt_best_random.append(np.load('tuning_data/anis_param_tuning_'+sigma+'/factors_cv_wrt_best_random.npy'))\n",
    "    factors_cv_wrt_best_random_full.append(np.load('tuning_data/anis_param_tuning_'+sigma+'/factors_cv_wrt_best_random_full.npy'))\n",
    "    mse_cv_random_full.append(np.load('tuning_data/anis_param_tuning_'+sigma+'/mse_cv_random_full.npy'))\n",
    "    mse_avg_alpha.append(np.load('tuning_data/anis_param_tuning_'+sigma+'/mse_average_alpha.npy'))\n",
    "    factors_cv_wrt_best_camera.append(np.load('tuning_data/anis_param_tuning_'+sigma+'/factors_cv_wrt_best_camera.npy'))\n",
    "    factors_cv_wrt_best_camera_full.append(np.load('tuning_data/anis_param_tuning_'+sigma+'/factors_cv_wrt_best_camera_full.npy'))"
   ],
   "id": "6b5a1dabc9140f9a",
   "outputs": [],
   "execution_count": 5
  },
  {
   "metadata": {
    "ExecuteTime": {
     "end_time": "2025-01-11T12:55:34.720355Z",
     "start_time": "2025-01-11T12:55:34.710710Z"
    }
   },
   "cell_type": "code",
   "source": [
    "for j in range(3):\n",
    "    print(sigmas[j])\n",
    "\n",
    "    mses_best_true_alpha = np.zeros(100)\n",
    "    for i in range(100):\n",
    "        mses_best_true_alpha[i] = np.min(reg_param_data[j][i][\"GT\"][2, :])\n",
    "    rel_err = 100*(mse_cv_random_full[j]-mses_best_true_alpha)/mses_best_true_alpha\n",
    "    ratio_pipeline_to_best_true_alpha = mse_cv_random_full[j] / mses_best_true_alpha\n",
    "    #print(np.where(rel_err>150))\n",
    "    print(\"MSE average best true alpha \", np.mean(mses_best_true_alpha), \"+-\", np.std(mses_best_true_alpha))\n",
    "    print(\"MSE average CV random full \", np.mean(mse_cv_random_full), \"+-\", np.std(mse_cv_random_full))\n",
    "    print(\"MSE average fixed alpha \", np.mean(mse_avg_alpha[j]), \"+-\", np.std(mse_avg_alpha[j]))\n",
    "        \n",
    "    factors_01_vs_best_true_alpha = np.zeros(100)\n",
    "    for i in range(100):\n",
    "        factors_01_vs_best_true_alpha[i] = reg_param_data[j][i][\"GT\"][2,12] / reg_param_data[j][i][\"GT\"][2,np.argmin(reg_param_data[j][i][\"GT\"][2,:])]\n",
    "        \n",
    "    mses_fixed_alpha = np.zeros(100)\n",
    "    for i in range(100):\n",
    "        mses_fixed_alpha[i] = anis_param_data[j][i][\"GT\"][2,6] \n",
    "    rel_err_fixed_alpha = 100*(mses_fixed_alpha-mses_best_true_alpha)/mses_best_true_alpha\n",
    "        \n",
    "    print(\"Correlation between true anisotropic parameter and performance degradation when using reg_param=0.1\\n\", pearsonr(factors_01_vs_best_true_alpha, alphas[900:]), \"\\n\")\n",
    "    \n",
    "    #plt.plot(rel_err, '.')\n",
    "    #pearsonr(ratio_pipeline_to_best, alphas_fine_new_bounds[900:])\n",
    "    #pearsonr(rel_err, alphas_fine_new_bounds[900:])\n",
    "    #print(np.mean(ratio_pipeline_to_best_true_alpha), np.std(ratio_pipeline_to_best_true_alpha))\n",
    "    #print(np.median(ratio_pipeline_to_best_true_alpha))\n",
    "    \n",
    "    thr=350\n",
    "    \n",
    "    # print(\"Average relative error on best MSE \",np.mean(rel_err), \"+-\", np.std(rel_err))\n",
    "    # print(\"Median relative error on best MSE\", np.median(rel_err))\n",
    "    # print(\"90% quantile  relative error on best MSE\", np.quantile(rel_err, 0.9))\n",
    "    print(\"Average relative error on best MSE \",np.mean(rel_err[rel_err<thr]), \"+-\", np.std(rel_err[rel_err<thr]))\n",
    "    print(\"Median relative error on best MSE\", np.median(rel_err[rel_err<thr]))\n",
    "    print(\"90% quantile  relative error on best MSE\", np.quantile(rel_err[rel_err<thr], 0.9))\n",
    "    \n",
    "    print(\"Fixed alpha\")\n",
    "    # print(\"Average relative error on best MSE \",np.mean(rel_err_fixed_alpha), \"+-\", np.std(rel_err_fixed_alpha))\n",
    "    # print(\"Median relative error on best MSE\", np.median(rel_err_fixed_alpha))\n",
    "    # print(\"90% quantile  relative error on best MSE\", np.quantile(rel_err_fixed_alpha, 0.9))\n",
    "    print(\"Average relative error on best MSE \",np.mean(rel_err_fixed_alpha[rel_err_fixed_alpha<thr]), \"+-\", np.std(rel_err_fixed_alpha[rel_err_fixed_alpha<thr]))\n",
    "    print(\"Median relative error on best MSE\", np.median(rel_err_fixed_alpha[rel_err_fixed_alpha<thr]))\n",
    "    print(\"90% quantile  relative error on best MSE\", np.quantile(rel_err_fixed_alpha[rel_err_fixed_alpha<thr], 0.9))\n",
    "    \n",
    "    print(\"\\n\\n\")"
   ],
   "id": "8e1a132f06d33644",
   "outputs": [
    {
     "name": "stdout",
     "output_type": "stream",
     "text": [
      "sigma005\n",
      "MSE average best true alpha  0.00040368651818404314 +- 0.00034031982463500466\n",
      "MSE average CV random full  0.0006218705237403433 +- 0.0004478047552229804\n",
      "MSE average fixed alpha  0.0004513470017287364 +- 0.0003290067922505657\n",
      "Correlation between true anisotropic parameter and performance degradation when using reg_param=0.1\n",
      " PearsonRResult(statistic=np.float64(0.07764513408298593), pvalue=np.float64(0.4425765207345404)) \n",
      "\n",
      "Average relative error on best MSE  16.599630140029294 +- 41.471394409371854\n",
      "Median relative error on best MSE 8.197192531050327\n",
      "90% quantile  relative error on best MSE 43.30245561335671\n",
      "Fixed alpha\n",
      "Average relative error on best MSE  22.326613511074466 +- 30.23922273121327\n",
      "Median relative error on best MSE 16.893403506601025\n",
      "90% quantile  relative error on best MSE 54.946683336650985\n",
      "\n",
      "\n",
      "\n",
      "sigma01\n",
      "MSE average best true alpha  0.0006549323508850393 +- 0.0004478196785653822\n",
      "MSE average CV random full  0.0006218705237403433 +- 0.0004478047552229804\n",
      "MSE average fixed alpha  0.0007843509119425096 +- 0.0005066167200102017\n",
      "Correlation between true anisotropic parameter and performance degradation when using reg_param=0.1\n",
      " PearsonRResult(statistic=np.float64(0.7510602337667397), pvalue=np.float64(2.2731191780415843e-19)) \n",
      "\n",
      "Average relative error on best MSE  20.569006618149093 +- 40.25802863951593\n",
      "Median relative error on best MSE 9.407280106193255\n",
      "90% quantile  relative error on best MSE 61.401785234626175\n",
      "Fixed alpha\n",
      "Average relative error on best MSE  23.193509639828058 +- 25.768824535881063\n",
      "Median relative error on best MSE 18.46052830468324\n",
      "90% quantile  relative error on best MSE 56.97240642518308\n",
      "\n",
      "\n",
      "\n",
      "sigma005005\n",
      "MSE average best true alpha  0.0005716008156412164 +- 0.0004000267146280611\n",
      "MSE average CV random full  0.0006218705237403433 +- 0.0004478047552229804\n",
      "MSE average fixed alpha  0.0006376433378746358 +- 0.0003857306718495347\n",
      "Correlation between true anisotropic parameter and performance degradation when using reg_param=0.1\n",
      " PearsonRResult(statistic=np.float64(0.9488062988981424), pvalue=np.float64(7.548080789801648e-51)) \n",
      "\n",
      "Average relative error on best MSE  22.012779607786754 +- 46.47535806970604\n",
      "Median relative error on best MSE 12.36273785166751\n",
      "90% quantile  relative error on best MSE 53.32779053538896\n",
      "Fixed alpha\n",
      "Average relative error on best MSE  19.220020204029964 +- 24.839861503906146\n",
      "Median relative error on best MSE 13.75273502624967\n",
      "90% quantile  relative error on best MSE 45.94067479268152\n",
      "\n",
      "\n",
      "\n"
     ]
    }
   ],
   "execution_count": 24
  },
  {
   "metadata": {
    "ExecuteTime": {
     "end_time": "2025-01-11T12:49:51.262084Z",
     "start_time": "2025-01-11T12:49:51.260266Z"
    }
   },
   "cell_type": "code",
   "source": [
    "# plt.plot(anis_param_data[2][1][\"GT\"][2,:])\n",
    "# plt.show()\n",
    "# plt.plot(anis_param_data[2][1][\"CV_full_random\"][1,:])"
   ],
   "id": "55865bfcba6f31a4",
   "outputs": [],
   "execution_count": 7
  },
  {
   "metadata": {
    "ExecuteTime": {
     "end_time": "2025-01-11T12:55:06.786558Z",
     "start_time": "2025-01-11T12:55:06.684730Z"
    }
   },
   "cell_type": "code",
   "source": [
    "plt.figure(figsize=(12,6))\n",
    "plt.plot(rel_err, 'b.')\n",
    "plt.plot(rel_err_fixed_alpha, 'r.')"
   ],
   "id": "4b9f2a461a751f",
   "outputs": [
    {
     "data": {
      "text/plain": [
       "[<matplotlib.lines.Line2D at 0x7760f391ddc0>]"
      ]
     },
     "execution_count": 22,
     "metadata": {},
     "output_type": "execute_result"
    },
    {
     "data": {
      "text/plain": [
       "<Figure size 1200x600 with 1 Axes>"
      ],
      "image/png": "[encoded data removed]"
     },
     "metadata": {},
     "output_type": "display_data"
    }
   ],
   "execution_count": 22
  },
  {
   "metadata": {
    "ExecuteTime": {
     "end_time": "2025-01-11T12:52:29.709492Z",
     "start_time": "2025-01-11T12:52:29.590199Z"
    }
   },
   "cell_type": "code",
   "source": [
    "plt.hist(rel_err, alpha=0.5, bins=20, density=True)\n",
    "plt.hist(rel_err_fixed_alpha, alpha=0.5, bins=20, density=True)"
   ],
   "id": "613ae523569b4e53",
   "outputs": [
    {
     "data": {
      "text/plain": [
       "(array([0.00291624, 0.00583247, 0.00583247, 0.00729059, 0.02041365,\n",
       "        0.02770424, 0.02187177, 0.00729059, 0.00583247, 0.01749742,\n",
       "        0.01020683, 0.00437435, 0.        , 0.        , 0.00291624,\n",
       "        0.00145812, 0.        , 0.00145812, 0.        , 0.00291624]),\n",
       " array([-28.35082043, -21.49266508, -14.63450974,  -7.7763544 ,\n",
       "         -0.91819906,   5.93995629,  12.79811163,  19.65626697,\n",
       "         26.51442232,  33.37257766,  40.230733  ,  47.08888834,\n",
       "         53.94704369,  60.80519903,  67.66335437,  74.52150971,\n",
       "         81.37966506,  88.2378204 ,  95.09597574, 101.95413109,\n",
       "        108.81228643]),\n",
       " <BarContainer object of 20 artists>)"
      ]
     },
     "execution_count": 17,
     "metadata": {},
     "output_type": "execute_result"
    },
    {
     "data": {
      "text/plain": [
       "<Figure size 640x480 with 1 Axes>"
      ],
      "image/png": "[encoded data removed]"
     },
     "metadata": {},
     "output_type": "display_data"
    }
   ],
   "execution_count": 17
  },
  {
   "metadata": {},
   "cell_type": "code",
   "outputs": [],
   "execution_count": null,
   "source": "",
   "id": "bc8a09df504242da"
  },
  {
   "metadata": {},
   "cell_type": "code",
   "outputs": [],
   "execution_count": null,
   "source": "",
   "id": "76b52e4137ece916"
  },
  {
   "metadata": {
    "ExecuteTime": {
     "end_time": "2025-01-11T12:35:15.696995Z",
     "start_time": "2025-01-11T12:35:15.692846Z"
    }
   },
   "cell_type": "code",
   "source": "rel_err",
   "id": "e9d3967e683fd740",
   "outputs": [
    {
     "data": {
      "text/plain": [
       "array([ 1.60631213e+01,  3.00583414e+02,  1.08812286e+02,  4.14468689e+01,\n",
       "        3.79734291e+00, -3.35618751e+00,  2.43816192e+01,  2.06386861e+01,\n",
       "        1.49952379e+01,  5.31241153e+01,  2.88833343e+01,  5.98722751e+01,\n",
       "        1.24305904e+01,  3.30220580e+01,  1.45580905e+00,  2.09004404e+01,\n",
       "       -1.52121503e+00,  5.01008667e+01, -2.51447502e+01,  1.85062938e+01,\n",
       "       -8.99654870e+00,  1.69336261e+01,  1.23430505e+01,  1.92651286e+01,\n",
       "        3.62934690e+01,  3.29108089e+01, -1.16667284e+01,  2.95219676e+01,\n",
       "        1.12380790e+01,  3.46340806e+01,  1.06186759e+01, -3.36529476e+00,\n",
       "        5.05813162e+01, -7.98280038e-01, -2.54740095e-01,  1.76548744e+01,\n",
       "       -3.20872074e+01,  2.64628635e+00, -6.21686386e+00,  3.47209881e+01,\n",
       "       -3.70379807e+00,  4.62582517e+00,  3.57355320e+01, -9.76958388e-01,\n",
       "        7.78077044e+00, -1.20306628e+01,  1.23591206e+01,  2.64473798e+02,\n",
       "        3.00004136e+01, -6.04354000e+00,  2.50570428e+01,  2.30123163e+01,\n",
       "        1.70925669e+01,  8.80285639e+00,  9.42067062e+00,  1.96813862e+01,\n",
       "        3.84364426e+00,  6.45478412e+01,  1.37391707e+01,  1.75490007e+01,\n",
       "        5.98457298e+01,  3.48374924e+00,  3.90131235e+00, -1.33825078e+01,\n",
       "        9.43070265e+00, -3.18754841e+00, -1.83121636e+00,  3.65956882e+01,\n",
       "       -2.27242293e+01,  3.21934565e+01,  9.79682759e+01,  3.13738097e+00,\n",
       "        3.77130684e+00, -2.69659163e+01,  3.79258840e+01, -1.66273060e+00,\n",
       "        3.16189207e+01, -4.08400960e+00,  3.30878156e+01,  2.07834550e+01,\n",
       "        5.42941154e+00,  8.76755780e+01, -1.31138722e+01, -2.45289803e+01,\n",
       "       -1.07562421e+01, -5.13570491e+00, -7.23214664e-01, -3.34125744e+01,\n",
       "        1.32216883e+02,  1.23663551e+01, -1.52113923e+01,  3.35629688e+01,\n",
       "        5.51608673e+01,  1.01329618e+01,  1.91371540e+01,  1.03465662e+01,\n",
       "        4.92700529e+01,  2.31041008e+01,  5.42721587e+00,  4.88415662e-01])"
      ]
     },
     "execution_count": 116,
     "metadata": {},
     "output_type": "execute_result"
    }
   ],
   "execution_count": 116
  },
  {
   "metadata": {},
   "cell_type": "code",
   "outputs": [],
   "execution_count": null,
   "source": "",
   "id": "bc07989a51b611bf"
  },
  {
   "metadata": {},
   "cell_type": "code",
   "outputs": [],
   "execution_count": null,
   "source": "",
   "id": "567d18648f8bdcf2"
  },
  {
   "metadata": {},
   "cell_type": "code",
   "outputs": [],
   "execution_count": null,
   "source": "",
   "id": "5b0b419108a0d1f0"
  },
  {
   "metadata": {},
   "cell_type": "code",
   "outputs": [],
   "execution_count": null,
   "source": "",
   "id": "1855ee12a2372d30"
  },
  {
   "metadata": {},
   "cell_type": "code",
   "outputs": [],
   "execution_count": null,
   "source": "",
   "id": "1bcb16fa8f64ff95"
  },
  {
   "metadata": {},
   "cell_type": "code",
   "outputs": [],
   "execution_count": null,
   "source": "",
   "id": "b8ea0142605da5e"
  },
  {
   "metadata": {
    "ExecuteTime": {
     "end_time": "2025-01-11T11:15:17.415167Z",
     "start_time": "2025-01-11T11:15:17.152305Z"
    }
   },
   "cell_type": "code",
   "source": [
    "plt.figure()\n",
    "vec = np.zeros(100)\n",
    "counter=0\n",
    "for i in range(reg_param_data[0][\"GT\"].shape[1]):\n",
    "    nb_occurrences_i = np.where(best_reg_param == reg_param_data[0][\"GT\"][0,i])[0].size\n",
    "    vec[counter:counter+nb_occurrences_i] = i\n",
    "    counter += nb_occurrences_i\n",
    "plt.figure(figsize=(3.5,3))\n",
    "plt.rcParams.update({\n",
    "    \"text.usetex\": True,\n",
    "    \"font.family\": \"sans-serif\",\n",
    "})\n",
    "plt.hist(vec, bins=29)\n",
    "plt.xticks([0,4,8,12,16,20], [r\"$10^{-4}$\", r\"$10^{-3}$\", r\"$10^{-2}$\", r\"$10^{-1}$\", r\"$10^{0}$\", r\"$10^{1}$\"], fontsize=16)\n",
    "plt.yticks([5,10,15,20,25], fontsize=16)#, [r\"$10^{-4}$\", r\"$10^{-3}$\", r\"$10^{-2}$\", r\"$10^{-1}$\", r\"$10^{0}$\", r\"$10^{1}$\"], fontsize=16)\n",
    "plt.title(r\"$\\mathrm{Noise \\;model \\;}N_1$\", fontsize=19)\n",
    "plt.xlabel(r\"$\\lambda_{best}$\", fontsize=17)\n",
    "plt.ylabel(r\"$\\# \\mathrm{occurrences}$\", fontsize=17, labelpad=5)\n",
    "\n",
    "#plt.savefig('../../../figures/reg_param_tuning.eps', format='eps', bbox_inches=\"tight\")\n",
    "\n",
    "plt.show()"
   ],
   "id": "9fc4df43de2d1159",
   "outputs": [
    {
     "data": {
      "text/plain": [
       "<Figure size 640x480 with 0 Axes>"
      ]
     },
     "metadata": {},
     "output_type": "display_data"
    },
    {
     "data": {
      "text/plain": [
       "<Figure size 350x300 with 1 Axes>"
      ],
      "image/png": "[encoded data removed]"
     },
     "metadata": {},
     "output_type": "display_data"
    }
   ],
   "execution_count": 13
  },
  {
   "metadata": {
    "ExecuteTime": {
     "end_time": "2025-01-10T14:26:22.682625Z",
     "start_time": "2025-01-10T14:26:22.680200Z"
    }
   },
   "cell_type": "code",
   "source": [
    "# idd=971\n",
    "# ground_truth = sxr_samples_fine_new_bounds[idd, :, :].squeeze()\n",
    "# import skimage.transform as skimt\n",
    "# gts = skimt.resize(ground_truth, (120,40), anti_aliasing=False, mode='edge')\n",
    "# psi = psis_fine_new_bounds[idd, :, :]\n",
    "# trim_val = trim_val_fine_new_bounds[idd, :]\n",
    "# import src.tomo_fusion.functionals_definition as fct_def\n",
    "# f,g = fct_def.define_loglikelihood_and_logprior(ground_truth, psi, sigma_err=7e-3,\n",
    "#                                                 reg_fct_type=\"anisotropic\",\n",
    "#                                                     #alpha=uq_data_idx_005005[\"alpha\"],\n",
    "#                                                     alpha=alphas_fine_new_bounds[idd],\n",
    "#                                                     seed=idd)\n",
    "# import src.tomo_fusion.tools.helpers as tomo_helps\n",
    "# mask_core = tomo_helps.define_core_mask(psi=psi, dim_shape=(120,40), trim_values_x=trim_val)\n",
    "# import src.tomo_fusion.bayesian_computations as bcomp\n",
    "# \n",
    "# maps = []\n",
    "# import copy\n",
    "# for i in range(reg_param_data[0][\"GT\"].shape[1]):\n",
    "#     map=bcomp.compute_MAP(f, g, reg_param_data[0][\"GT\"][0,i], with_pos_constraint=True, clipping_mask=mask_core)\n",
    "#     maps.append(copy.deepcopy(map))\n",
    "#     "
   ],
   "id": "44210977d4aa152d",
   "outputs": [],
   "execution_count": 49
  },
  {
   "metadata": {},
   "cell_type": "code",
   "outputs": [],
   "execution_count": null,
   "source": [
    "ratio_pipeline_to_best = mse_cv_random_full / mses_best\n",
    "rel_err = 100*(mse_cv_random_full-mses_best)/mses_best\n",
    "#np.quantile(rel_err,0.9)\n",
    "#plt.plot(rel_err, '.')\n",
    "#pearsonr(ratio_pipeline_to_best, alphas_fine_new_bounds[900:])\n",
    "#pearsonr(rel_err, alphas_fine_new_bounds[900:])\n",
    "print(np.mean(ratio_pipeline_to_best), np.std(ratio_pipeline_to_best))\n",
    "print(np.median(ratio_pipeline_to_best))\n",
    "print(np.mean(rel_err), np.std(rel_err))\n",
    "print(np.median(rel_err))"
   ],
   "id": "adf7c35501be3cb6"
  },
  {
   "metadata": {
    "ExecuteTime": {
     "end_time": "2025-01-10T14:49:36.093115Z",
     "start_time": "2025-01-10T14:49:35.748576Z"
    }
   },
   "cell_type": "code",
   "source": [
    "plt.plot(np.mean(factors_cv_wrt_best_random),'b.')\n",
    "plt.plot(np.mean(factors_cv_wrt_best_random_full),'g.')\n",
    "plt.plot(np.mean(factors_cv_wrt_best_camera),'r.')\n",
    "plt.plot(np.mean(factors_cv_wrt_best_camera_full),'k.')"
   ],
   "id": "61d044e17667adb9",
   "outputs": [
    {
     "data": {
      "text/plain": [
       "[<matplotlib.lines.Line2D at 0x71e890386a50>]"
      ]
     },
     "execution_count": 61,
     "metadata": {},
     "output_type": "execute_result"
    },
    {
     "data": {
      "text/plain": [
       "<Figure size 640x480 with 1 Axes>"
      ],
      "image/png": "[encoded data removed]"
     },
     "metadata": {},
     "output_type": "display_data"
    }
   ],
   "execution_count": 61
  },
  {
   "metadata": {
    "ExecuteTime": {
     "end_time": "2024-12-26T17:08:53.211633Z",
     "start_time": "2024-12-26T17:08:53.126712Z"
    }
   },
   "cell_type": "code",
   "source": [
    "plt.plot(np.median(factors_cv_wrt_best_random),'b.')\n",
    "plt.plot(np.median(factors_cv_wrt_best_random_full),'g.')\n",
    "plt.plot(np.median(factors_cv_wrt_best_camera),'r.')\n",
    "plt.plot(np.median(factors_cv_wrt_best_camera_full),'k.')"
   ],
   "id": "42f0d73cce0fb2d2",
   "outputs": [
    {
     "data": {
      "text/plain": [
       "[<matplotlib.lines.Line2D at 0x7f6bbe162b10>]"
      ]
     },
     "execution_count": 19,
     "metadata": {},
     "output_type": "execute_result"
    },
    {
     "data": {
      "text/plain": [
       "<Figure size 640x480 with 1 Axes>"
      ],
      "image/png": "[encoded data removed]"
     },
     "metadata": {},
     "output_type": "display_data"
    }
   ],
   "execution_count": 19
  }
 ],
 "metadata": {
  "kernelspec": {
   "display_name": "Python 3",
   "language": "python",
   "name": "python3"
  },
  "language_info": {
   "codemirror_mode": {
    "name": "ipython",
    "version": 2
   },
   "file_extension": ".py",
   "mimetype": "text/x-python",
   "name": "python",
   "nbconvert_exporter": "python",
   "pygments_lexer": "ipython2",
   "version": "2.7.6"
  }
 },
 "nbformat": 4,
 "nbformat_minor": 5
}
